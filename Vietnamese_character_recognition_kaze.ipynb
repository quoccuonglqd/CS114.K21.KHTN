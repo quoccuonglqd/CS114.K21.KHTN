{
  "nbformat": 4,
  "nbformat_minor": 0,
  "metadata": {
    "colab": {
      "name": "Vietnamese_character_recognition_kaze.ipynb",
      "provenance": [],
      "collapsed_sections": []
    },
    "kernelspec": {
      "name": "python3",
      "display_name": "Python 3"
    }
  },
  "cells": [
    {
      "cell_type": "code",
      "metadata": {
        "id": "7GcGNYGCjyR0",
        "colab_type": "code",
        "colab": {}
      },
      "source": [
        "import json\n",
        "import tensorflow as tf\n",
        "from tensorflow.python.client import device_lib\n",
        "from os import listdir\n",
        "import os.path as osp\n",
        "import cv2\n",
        "from sklearn.decomposition import PCA\n",
        "import numpy as np"
      ],
      "execution_count": null,
      "outputs": []
    },
    {
      "cell_type": "code",
      "metadata": {
        "id": "vJGeKtxYFXae",
        "colab_type": "code",
        "colab": {
          "base_uri": "https://localhost:8080/",
          "height": 328
        },
        "outputId": "49c9807b-f2b7-4f55-a8cc-bf6bb8793b5a"
      },
      "source": [
        "from sklearn.tree import ExtraTreeClassifier\n",
        "from sklearn.tree import DecisionTreeClassifier\n",
        "from sklearn.svm.classes import OneClassSVM\n",
        "from sklearn.neural_network.multilayer_perceptron import MLPClassifier\n",
        "from sklearn.neighbors.classification import RadiusNeighborsClassifier\n",
        "from sklearn.neighbors.classification import KNeighborsClassifier\n",
        "from sklearn.multioutput import ClassifierChain\n",
        "from sklearn.multioutput import MultiOutputClassifier\n",
        "from sklearn.multiclass import OutputCodeClassifier\n",
        "from sklearn.multiclass import OneVsOneClassifier\n",
        "from sklearn.multiclass import OneVsRestClassifier\n",
        "from sklearn.linear_model.stochastic_gradient import SGDClassifier\n",
        "from sklearn.linear_model.ridge import RidgeClassifierCV\n",
        "from sklearn.linear_model.ridge import RidgeClassifier\n",
        "from sklearn.linear_model.passive_aggressive import PassiveAggressiveClassifier    \n",
        "from sklearn.gaussian_process.gpc import GaussianProcessClassifier\n",
        "from sklearn.ensemble import VotingClassifier\n",
        "from sklearn.ensemble.weight_boosting import AdaBoostClassifier\n",
        "from sklearn.ensemble.gradient_boosting import GradientBoostingClassifier\n",
        "from sklearn.ensemble.bagging import BaggingClassifier\n",
        "from sklearn.ensemble.forest import ExtraTreesClassifier\n",
        "from sklearn.ensemble.forest import RandomForestClassifier\n",
        "from sklearn.naive_bayes import BernoulliNB\n",
        "from sklearn.calibration import CalibratedClassifierCV\n",
        "from sklearn.naive_bayes import GaussianNB\n",
        "from sklearn.semi_supervised import LabelPropagation\n",
        "from sklearn.semi_supervised import LabelSpreading\n",
        "from sklearn.discriminant_analysis import LinearDiscriminantAnalysis\n",
        "from sklearn.svm import LinearSVC\n",
        "from sklearn.linear_model import LogisticRegression\n",
        "from sklearn.linear_model import LogisticRegressionCV\n",
        "from sklearn.naive_bayes import MultinomialNB  \n",
        "from sklearn.neighbors import NearestCentroid\n",
        "from sklearn.svm import NuSVC\n",
        "from sklearn.linear_model import Perceptron\n",
        "from sklearn.discriminant_analysis import QuadraticDiscriminantAnalysis\n",
        "from sklearn.svm import SVC\n",
        "from sklearn.mixture import GaussianMixture"
      ],
      "execution_count": null,
      "outputs": [
        {
          "output_type": "stream",
          "text": [
            "/usr/local/lib/python3.6/dist-packages/sklearn/utils/deprecation.py:144: FutureWarning: The sklearn.linear_model.stochastic_gradient module is  deprecated in version 0.22 and will be removed in version 0.24. The corresponding classes / functions should instead be imported from sklearn.linear_model. Anything that cannot be imported from sklearn.linear_model is now part of the private API.\n",
            "  warnings.warn(message, FutureWarning)\n",
            "/usr/local/lib/python3.6/dist-packages/sklearn/utils/deprecation.py:144: FutureWarning: The sklearn.linear_model.ridge module is  deprecated in version 0.22 and will be removed in version 0.24. The corresponding classes / functions should instead be imported from sklearn.linear_model. Anything that cannot be imported from sklearn.linear_model is now part of the private API.\n",
            "  warnings.warn(message, FutureWarning)\n",
            "/usr/local/lib/python3.6/dist-packages/sklearn/utils/deprecation.py:144: FutureWarning: The sklearn.linear_model.passive_aggressive module is  deprecated in version 0.22 and will be removed in version 0.24. The corresponding classes / functions should instead be imported from sklearn.linear_model. Anything that cannot be imported from sklearn.linear_model is now part of the private API.\n",
            "  warnings.warn(message, FutureWarning)\n",
            "/usr/local/lib/python3.6/dist-packages/sklearn/utils/deprecation.py:144: FutureWarning: The sklearn.gaussian_process.gpc module is  deprecated in version 0.22 and will be removed in version 0.24. The corresponding classes / functions should instead be imported from sklearn.gaussian_process. Anything that cannot be imported from sklearn.gaussian_process is now part of the private API.\n",
            "  warnings.warn(message, FutureWarning)\n",
            "/usr/local/lib/python3.6/dist-packages/sklearn/utils/deprecation.py:144: FutureWarning: The sklearn.ensemble.weight_boosting module is  deprecated in version 0.22 and will be removed in version 0.24. The corresponding classes / functions should instead be imported from sklearn.ensemble. Anything that cannot be imported from sklearn.ensemble is now part of the private API.\n",
            "  warnings.warn(message, FutureWarning)\n",
            "/usr/local/lib/python3.6/dist-packages/sklearn/utils/deprecation.py:144: FutureWarning: The sklearn.ensemble.gradient_boosting module is  deprecated in version 0.22 and will be removed in version 0.24. The corresponding classes / functions should instead be imported from sklearn.ensemble. Anything that cannot be imported from sklearn.ensemble is now part of the private API.\n",
            "  warnings.warn(message, FutureWarning)\n",
            "/usr/local/lib/python3.6/dist-packages/sklearn/utils/deprecation.py:144: FutureWarning: The sklearn.ensemble.bagging module is  deprecated in version 0.22 and will be removed in version 0.24. The corresponding classes / functions should instead be imported from sklearn.ensemble. Anything that cannot be imported from sklearn.ensemble is now part of the private API.\n",
            "  warnings.warn(message, FutureWarning)\n",
            "/usr/local/lib/python3.6/dist-packages/sklearn/utils/deprecation.py:144: FutureWarning: The sklearn.ensemble.forest module is  deprecated in version 0.22 and will be removed in version 0.24. The corresponding classes / functions should instead be imported from sklearn.ensemble. Anything that cannot be imported from sklearn.ensemble is now part of the private API.\n",
            "  warnings.warn(message, FutureWarning)\n"
          ],
          "name": "stderr"
        }
      ]
    },
    {
      "cell_type": "code",
      "metadata": {
        "id": "8X6FRS8-kJjO",
        "colab_type": "code",
        "colab": {}
      },
      "source": [
        "file = open('/content/kaze_feature_for_vietnamese_char.json','r')\n",
        "data = json.load(file)"
      ],
      "execution_count": null,
      "outputs": []
    },
    {
      "cell_type": "code",
      "metadata": {
        "id": "t77w2bGLlXtE",
        "colab_type": "code",
        "colab": {}
      },
      "source": [
        "X_train = data['x']\n",
        "Y_train = []\n",
        "for i in range(29):\n",
        "  for j in range(100):\n",
        "    Y_train.append(i)\n",
        "X_train = np.array(X_train)\n",
        "Y_train = np.array(Y_train)"
      ],
      "execution_count": null,
      "outputs": []
    },
    {
      "cell_type": "code",
      "metadata": {
        "id": "RmHtW-GEIn8v",
        "colab_type": "code",
        "colab": {}
      },
      "source": [
        "chars = ['a','ă','â','b','c','d','đ','e','ê','g','h','i','k','l','m','n','o','ô','ơ','p','q','r','s','t','u','ư','v','x','y']"
      ],
      "execution_count": null,
      "outputs": []
    },
    {
      "cell_type": "code",
      "metadata": {
        "id": "6qZAS-GkI6_f",
        "colab_type": "code",
        "colab": {}
      },
      "source": [
        "from sklearn.model_selection import train_test_split\n",
        "X_train,X_test,Y_train,Y_test = train_test_split(X_train,Y_train,test_size=0.3)"
      ],
      "execution_count": null,
      "outputs": []
    },
    {
      "cell_type": "code",
      "metadata": {
        "id": "BLEUN5YoLKQA",
        "colab_type": "code",
        "colab": {
          "base_uri": "https://localhost:8080/",
          "height": 54
        },
        "outputId": "19a34557-fa7d-4f47-fdc2-847bed4322dc"
      },
      "source": [
        "extra_tree = ExtraTreeClassifier(random_state=0)\n",
        "clf = BaggingClassifier(extra_tree, random_state=0).fit(X_train, Y_train)\n",
        "print(\"Performance on train set:{}\\nPerformance on test set:{}\".format(clf.score(X_train,Y_train),clf.score(X_test, Y_test)))"
      ],
      "execution_count": null,
      "outputs": [
        {
          "output_type": "stream",
          "text": [
            "Performance on train set:0.9960591133004926\n",
            "Performance on test set:0.04367816091954023\n"
          ],
          "name": "stdout"
        }
      ]
    },
    {
      "cell_type": "code",
      "metadata": {
        "id": "woz2IW0WLgoI",
        "colab_type": "code",
        "colab": {
          "base_uri": "https://localhost:8080/",
          "height": 54
        },
        "outputId": "f8782178-98f1-4e1a-ef91-807872925481"
      },
      "source": [
        "clf = DecisionTreeClassifier(random_state=0)\n",
        "clf = BaggingClassifier(clf, random_state=0).fit(X_train, Y_train)\n",
        "print(\"Performance on train set:{}\\nPerformance on test set:{}\".format(clf.score(X_train,Y_train),clf.score(X_test, Y_test)))"
      ],
      "execution_count": null,
      "outputs": [
        {
          "output_type": "stream",
          "text": [
            "Performance on train set:0.9945812807881773\n",
            "Performance on test set:0.029885057471264367\n"
          ],
          "name": "stdout"
        }
      ]
    },
    {
      "cell_type": "code",
      "metadata": {
        "id": "GHw1SO6qMC0S",
        "colab_type": "code",
        "colab": {
          "base_uri": "https://localhost:8080/",
          "height": 110
        },
        "outputId": "ab286fe4-bea6-42f6-cd37-3aab0704771e"
      },
      "source": [
        "clf = MLPClassifier(random_state=1, max_iter=300).fit(X_train, Y_train)\n",
        "print(\"Performance on train set:{}\\nPerformance on test set:{}\".format(clf.score(X_train,Y_train),clf.score(X_test, Y_test)))"
      ],
      "execution_count": null,
      "outputs": [
        {
          "output_type": "stream",
          "text": [
            "Performance on train set:1.0\n",
            "Performance on test set:0.026436781609195402\n"
          ],
          "name": "stdout"
        },
        {
          "output_type": "stream",
          "text": [
            "/usr/local/lib/python3.6/dist-packages/sklearn/neural_network/_multilayer_perceptron.py:571: ConvergenceWarning: Stochastic Optimizer: Maximum iterations (300) reached and the optimization hasn't converged yet.\n",
            "  % self.max_iter, ConvergenceWarning)\n"
          ],
          "name": "stderr"
        }
      ]
    },
    {
      "cell_type": "code",
      "metadata": {
        "id": "thDY6ImjNjBB",
        "colab_type": "code",
        "colab": {
          "base_uri": "https://localhost:8080/",
          "height": 54
        },
        "outputId": "c4345125-41d8-403f-d8c6-b9ffa3b72253"
      },
      "source": [
        "clf = KNeighborsClassifier(n_neighbors=15).fit(X_train, Y_train)\n",
        "print(\"Performance on train set:{}\\nPerformance on test set:{}\".format(clf.score(X_train,Y_train),clf.score(X_test, Y_test)))"
      ],
      "execution_count": null,
      "outputs": [
        {
          "output_type": "stream",
          "text": [
            "Performance on train set:0.1605911330049261\n",
            "Performance on test set:0.041379310344827586\n"
          ],
          "name": "stdout"
        }
      ]
    },
    {
      "cell_type": "code",
      "metadata": {
        "id": "qYomTy6mOCbH",
        "colab_type": "code",
        "colab": {
          "base_uri": "https://localhost:8080/",
          "height": 54
        },
        "outputId": "d0f4e589-5d58-4d9e-eb01-27b38607c2ec"
      },
      "source": [
        "clf = OneVsRestClassifier(SVC()).fit(X_train, Y_train)\n",
        "print(\"Performance on train set:{}\\nPerformance on test set:{}\".format(clf.score(X_train,Y_train),clf.score(X_test, Y_test)))"
      ],
      "execution_count": null,
      "outputs": [
        {
          "output_type": "stream",
          "text": [
            "Performance on train set:1.0\n",
            "Performance on test set:0.03908045977011494\n"
          ],
          "name": "stdout"
        }
      ]
    }
  ]
}