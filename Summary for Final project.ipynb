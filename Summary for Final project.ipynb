{
 "cells": [
  {
   "cell_type": "markdown",
   "metadata": {},
   "source": [
    "# Problem:\n",
    "  We present the process of building a recognition model for Vietnamese character\n",
    "# Input Description:\n",
    "  Image of 1 Vietnamese character. \n",
    "  <img src=\"image/image00000.jpg\">  \n",
    "# Output Description:\n",
    "  The category of this image\n",
    "  \n",
    "# Data Description\n",
    "  Generate data by using Opencv.  \n",
    "  Image's background is white. The character belongs to 1 of 7 fonts:  \n",
    "  * Arial\n",
    "  * Arialbd\n",
    "  * Microsslv\n",
    "  * Pala\n",
    "  * Palab\n",
    "  * Tahoma\n",
    "  * Times  \n",
    "  Training set:2030 images  \n",
    "  Test set: 870 images  \n",
    "# Process:\n",
    "  We use 2 method for feature engineering. \n",
    "  * Feature description KAZE\n",
    "  * Feature selection\n  ",
    "# Result:\n",
    "  We evaluate the accuracy score and present the confusion matrix"
   ]
  },
  {
   "cell_type": "code",
   "execution_count": null,
   "metadata": {},
   "outputs": [],
   "source": []
  }
 ],
 "metadata": {
  "kernelspec": {
   "display_name": "Python 3",
   "language": "python",
   "name": "python3"
  },
  "language_info": {
   "codemirror_mode": {
    "name": "ipython",
    "version": 3
   },
   "file_extension": ".py",
   "mimetype": "text/x-python",
   "name": "python",
   "nbconvert_exporter": "python",
   "pygments_lexer": "ipython3",
   "version": "3.7.3"
  }
 },
 "nbformat": 4,
 "nbformat_minor": 2
}
