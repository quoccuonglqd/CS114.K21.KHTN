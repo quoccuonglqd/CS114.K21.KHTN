{
 "cells": [
  {
   "cell_type": "markdown",
   "metadata": {},
   "source": [
    "# Problem:\n",
    "  One of the most attractive problems of Computer Vision is the OCR(Optical Character Recognition) problem. In this project, we represent one module of the OCR project in domain of Vietnamese handwriting text, which is character recognition. We use the approach of firstly using character detection to split image into many small pictures consisting character, then we use character recognition to read them.  \n",
    "  For the detection module, we use a CRAFT pretrained model in the demo. In our project, we focus mainly on building our own chracter recognition model.\n",
    "# Input and output:\n",
    "## Input\n",
    "  Image consisting 1 Vietnamese handwrting character. \n",
    "## Ouptut\n",
    "  The category of character in input image\n",
    "  <img src=\"image/minhhoa1.PNG\">  \n",
    "  <img src=\"image/minhhoa2.PNG\">  \n",
    "  <img src=\"image/minhhoa3.PNG\">  \n",
    "  <img src=\"image/minhhoa4.PNG\">  \n",
    "  <img src=\"image/minhhoa5.PNG\">  \n",
    "  <img src=\"image/minhhoa6.PNG\">  \n",
    "# Data Description\n",
    "  Our dataset is based on ICFHR2018 Competition's dataset  \n",
    "  <img src=\"image/minhhoa.png\">\n",
    "  We crop the characters from these images and label them. Our dataset contains of total 3115 images."
   ]
  },
  {
   "cell_type": "markdown",
   "metadata": {},
   "source": [
    "# Process:\n",
    "## Feature\n",
    "  We extract some features from features from our image, which include:  \n",
    "* Aspect ratio : \n",
    ">$\\frac{width}{height}$\n",
    "* Rectangularity :\n",
    ">$\\frac{width*height}{area}$\n",
    "* Circularity :\n",
    ">$\\frac{perimeter^2}{area}$\n",
    "* Equivalent diameter:\n",
    ">$\\frac{4*area}{\\pi}$\n",
    "* Bounding elipse fit to character: orientation, minor axis and major axis length  \n",
    "* Contrast\n",
    "* Correlation\n",
    "* Entropy\n",
    "* Inverse difference moments  \n",
    "## Model:\n",
    "  We try 2 models for this multi-categorial classification problem and observe their performance.\n",
    "* SVM\n",
    "* Decision tree"
   ]
  },
  {
   "cell_type": "markdown",
   "metadata": {},
   "source": [
    "  \n",
    "# Result:  \n",
    "  We evaluate the accuracy score and present the confusion matrix"
   ]
  }
 ],
 "metadata": {
  "kernelspec": {
   "display_name": "Python 3",
   "language": "python",
   "name": "python3"
  },
  "language_info": {
   "codemirror_mode": {
    "name": "ipython",
    "version": 3
   },
   "file_extension": ".py",
   "mimetype": "text/x-python",
   "name": "python",
   "nbconvert_exporter": "python",
   "pygments_lexer": "ipython3",
   "version": "3.7.3"
  }
 },
 "nbformat": 4,
 "nbformat_minor": 2
}