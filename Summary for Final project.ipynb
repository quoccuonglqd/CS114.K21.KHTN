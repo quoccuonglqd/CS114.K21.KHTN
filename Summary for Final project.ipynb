{
 "cells": [
  {
   "cell_type": "markdown",
   "metadata": {},
   "source": [
    "# Problem:\n",
    "  The growth of Computer Vision recently gives birth to many applications. An application that takes a lot concern is the information extraction problem. This problem is comprised of 3 main steps: text detection, text regconition and information extraction from outputs of previous step. In the text detection step, if the image's texture has some unnecessary texts, it will affects the efficiency of next steps. So in this project, we aim to train a detector to crop the the identification card from the original image, which in turn may improve the efficiency of information extraction process.   \n",
    "# Input Description:\n",
    "  Image of identification card\n",
    "  <img src=\"5_easy_001925.jpg\">  \n",
    "# Output Description:\n",
    "  Detection of the identification card\n",
    "  <img src=\"detect.jpg\">\n",
    "# Data Description\n",
    "  Generate data by adding text to the empty id card images.  \n",
    "  Images in test set will be downloaded from internet  \n",
    "  Augment images by changing brightness and rotate  \n",
    "  <img src=\"6_easy_004325.jpg\">\n",
    "  <img src=\"6_easy_004326.jpg\">\n",
    "  <img src=\"6_easy_004327.jpg\">\n",
    "  Training set:100.000 images  \n",
    "  Validation set: 50.000 images  \n",
    "  Test set: 25 images  \n",
    "# Process:\n",
    "  Train this detector using Faster-RCNN, Mask-RCNN. \n",
    "# Result:  \n",
    "  We evaluate the mAP score of 2 detectors and compare them."
   ]
  }
 ],
 "metadata": {
  "kernelspec": {
   "display_name": "Python 3",
   "language": "python",
   "name": "python3"
  },
  "language_info": {
   "codemirror_mode": {
    "name": "ipython",
    "version": 3
   },
   "file_extension": ".py",
   "mimetype": "text/x-python",
   "name": "python",
   "nbconvert_exporter": "python",
   "pygments_lexer": "ipython3",
   "version": "3.7.3"
  }
 },
 "nbformat": 4,
 "nbformat_minor": 2
}
